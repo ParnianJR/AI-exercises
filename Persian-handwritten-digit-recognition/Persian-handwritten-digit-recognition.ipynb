{
 "cells": [
  {
   "cell_type": "code",
   "execution_count": 1,
   "id": "133d594b",
   "metadata": {},
   "outputs": [],
   "source": [
    "# Hoda Dataset Reader\n",
    "# Python code for reading Hoda farsi digit dataset.\n",
    "\n",
    "# Hoda Farsi Digit Dataset:\n",
    "# http://farsiocr.ir/\n",
    "# http://farsiocr.ir/مجموعه-داده/مجموعه-ارقام-دستنویس-هدی\n",
    "# http://dadegan.ir/catalog/hoda\n",
    "\n",
    "# Repository:\n",
    "# https://github.com/amir-saniyan/HodaDatasetReader\n",
    "\n",
    "import struct\n",
    "import numpy as np\n",
    "from numpy import log,dot,exp,shape\n",
    "import cv2\n",
    "import matplotlib.pyplot as plt\n",
    "import timeit\n",
    "def __convert_to_one_hot(vector, num_classes):\n",
    "    result = np.zeros(shape=[len(vector), num_classes])\n",
    "    result[np.arange(len(vector)), vector] = 1\n",
    "    return result\n",
    "\n",
    "\n",
    "def __resize_image(src_image, dst_image_height, dst_image_width):\n",
    "    src_image_height = src_image.shape[0]\n",
    "    src_image_width = src_image.shape[1]\n",
    "\n",
    "    if src_image_height > dst_image_height or src_image_width > dst_image_width:\n",
    "        height_scale = dst_image_height / src_image_height\n",
    "        width_scale = dst_image_width / src_image_width\n",
    "        scale = min(height_scale, width_scale)\n",
    "        img = cv2.resize(src=src_image, dsize=(0, 0), fx=scale, fy=scale, interpolation=cv2.INTER_CUBIC)\n",
    "    else:\n",
    "        img = src_image\n",
    "\n",
    "    img_height = img.shape[0]\n",
    "    img_width = img.shape[1]\n",
    "\n",
    "    dst_image = np.zeros(shape=[dst_image_height, dst_image_width], dtype=np.uint8)\n",
    "\n",
    "    y_offset = (dst_image_height - img_height) // 2\n",
    "    x_offset = (dst_image_width - img_width) // 2\n",
    "\n",
    "    dst_image[y_offset:y_offset+img_height, x_offset:x_offset+img_width] = img\n",
    "\n",
    "    return dst_image\n",
    "\n",
    "\n",
    "def read_hoda_cdb(file_name):\n",
    "    with open(file_name, 'rb') as binary_file:\n",
    "\n",
    "        data = binary_file.read()\n",
    "\n",
    "        offset = 0\n",
    "\n",
    "        # read private header\n",
    "\n",
    "        yy = struct.unpack_from('H', data, offset)[0]\n",
    "        offset += 2\n",
    "\n",
    "        m = struct.unpack_from('B', data, offset)[0]\n",
    "        offset += 1\n",
    "\n",
    "        d = struct.unpack_from('B', data, offset)[0]\n",
    "        offset += 1\n",
    "\n",
    "        H = struct.unpack_from('B', data, offset)[0]\n",
    "        offset += 1\n",
    "\n",
    "        W = struct.unpack_from('B', data, offset)[0]\n",
    "        offset += 1\n",
    "\n",
    "        TotalRec = struct.unpack_from('I', data, offset)[0]\n",
    "        offset += 4\n",
    "\n",
    "        LetterCount = struct.unpack_from('128I', data, offset)\n",
    "        offset += 128 * 4\n",
    "\n",
    "        imgType = struct.unpack_from('B', data, offset)[0]  # 0: binary, 1: gray\n",
    "        offset += 1\n",
    "\n",
    "        Comments = struct.unpack_from('256c', data, offset)\n",
    "        offset += 256 * 1\n",
    "\n",
    "        Reserved = struct.unpack_from('245c', data, offset)\n",
    "        offset += 245 * 1\n",
    "\n",
    "        if (W > 0) and (H > 0):\n",
    "            normal = True\n",
    "        else:\n",
    "            normal = False\n",
    "\n",
    "        images = []\n",
    "        labels = []\n",
    "\n",
    "        for i in range(TotalRec):\n",
    "\n",
    "            StartByte = struct.unpack_from('B', data, offset)[0]  # must be 0xff\n",
    "            offset += 1\n",
    "\n",
    "            label = struct.unpack_from('B', data, offset)[0]\n",
    "            offset += 1\n",
    "\n",
    "            if not normal:\n",
    "                W = struct.unpack_from('B', data, offset)[0]\n",
    "                offset += 1\n",
    "\n",
    "                H = struct.unpack_from('B', data, offset)[0]\n",
    "                offset += 1\n",
    "\n",
    "            ByteCount = struct.unpack_from('H', data, offset)[0]\n",
    "            offset += 2\n",
    "\n",
    "            image = np.zeros(shape=[H, W], dtype=np.uint8)\n",
    "\n",
    "            if imgType == 0:\n",
    "                # Binary\n",
    "                for y in range(H):\n",
    "                    bWhite = True\n",
    "                    counter = 0\n",
    "                    while counter < W:\n",
    "                        WBcount = struct.unpack_from('B', data, offset)[0]\n",
    "                        offset += 1\n",
    "                        # x = 0\n",
    "                        # while x < WBcount:\n",
    "                        #     if bWhite:\n",
    "                        #         image[y, x + counter] = 0  # Background\n",
    "                        #     else:\n",
    "                        #         image[y, x + counter] = 255  # ForeGround\n",
    "                        #     x += 1\n",
    "                        if bWhite:\n",
    "                            image[y, counter:counter + WBcount] = 0  # Background\n",
    "                        else:\n",
    "                            image[y, counter:counter + WBcount] = 255  # ForeGround\n",
    "                        bWhite = not bWhite  # black white black white ...\n",
    "                        counter += WBcount\n",
    "            else:\n",
    "                # GrayScale mode\n",
    "                data = struct.unpack_from('{}B'.format(W * H), data, offset)\n",
    "                offset += W * H\n",
    "                image = np.asarray(data, dtype=np.uint8).reshape([W, H]).T\n",
    "\n",
    "            images.append(image)\n",
    "            labels.append(label)\n",
    "\n",
    "        return images, labels\n",
    "\n",
    "\n",
    "def read_hoda_dataset(dataset_path, images_height=32, images_width=32, one_hot=False, reshape=True):\n",
    "    images, labels = read_hoda_cdb(dataset_path)\n",
    "    assert len(images) == len(labels)\n",
    "\n",
    "    X = np.zeros(shape=[len(images), images_height, images_width], dtype=np.float32)\n",
    "    Y = np.zeros(shape=[len(labels)], dtype=np.int64)\n",
    "\n",
    "    for i in range(len(images)):\n",
    "        image = images[i]\n",
    "        # Image resizing.\n",
    "        image = __resize_image(src_image=image, dst_image_height=images_height, dst_image_width=images_width)\n",
    "        # Image normalization.\n",
    "        image = image / 255\n",
    "        # Image binarization.\n",
    "        image = np.where(image >= 0.5, 1, 0)\n",
    "        # Image.\n",
    "        X[i] = image\n",
    "        # Label.\n",
    "        Y[i] = labels[i]\n",
    "\n",
    "    if one_hot:\n",
    "        Y = __convert_to_one_hot(Y, 10).astype(dtype=np.float32)\n",
    "    else:\n",
    "        Y = Y.astype(dtype=np.float32)\n",
    "\n",
    "    if reshape:\n",
    "        X = X.reshape(-1, images_height * images_width)\n",
    "    else:\n",
    "        X = X.reshape(-1, images_height, images_width, 1)\n",
    "\n",
    "    return X, Y\n"
   ]
  },
  {
   "cell_type": "code",
   "execution_count": 2,
   "id": "98217aba",
   "metadata": {},
   "outputs": [
    {
     "name": "stdout",
     "output_type": "stream",
     "text": [
      "Dataset is loaded.\n"
     ]
    }
   ],
   "source": [
    "#train dataset is loading\n",
    "X_train, Y_train = read_hoda_dataset(dataset_path='./DigitDB/Train 60000.cdb',\n",
    "                                images_height=32,\n",
    "                                images_width=32,\n",
    "                                one_hot=False,\n",
    "                                reshape=True)\n",
    "\n",
    "#test dataset is loading\n",
    "X_test, Y_test = read_hoda_dataset(dataset_path='./DigitDB/Test 20000.cdb',\n",
    "                              images_height=32,\n",
    "                              images_width=32,\n",
    "                              one_hot=False,\n",
    "                              reshape=True)\n",
    "\n",
    "#remaining dataset is loading\n",
    "X_remaining, Y_remaining = read_hoda_dataset('./DigitDB/RemainingSamples.cdb',\n",
    "                                             images_height=32,\n",
    "                                             images_width=32,\n",
    "                                             one_hot=False,\n",
    "                                             reshape=True)\n",
    "\n",
    "print(\"Dataset is loaded.\")"
   ]
  },
  {
   "cell_type": "code",
   "execution_count": 5,
   "id": "39f1abc7",
   "metadata": {},
   "outputs": [],
   "source": [
    "%%capture\n",
    "\n",
    "#start time of the algorithm\n",
    "start = timeit.default_timer()\n",
    "\n",
    "import scipy.optimize as opt\n",
    "\n",
    "# training data\n",
    "Xtrain = X_train\n",
    "Ytrain = Y_train\n",
    "\n",
    "# test data\n",
    "Xtest = X_test\n",
    "Ytest = Y_test\n",
    "\n",
    "# remaining data\n",
    "Xremain = X_remaining\n",
    "Yremain = Y_remaining\n",
    "\n",
    "\n",
    "# Adds a column to the left side of the feature matrix (the intercept)\n",
    "Xtrain = np.hstack((np.ones((len(Ytrain), 1)), Xtrain))\n",
    "Xtest = np.hstack((np.ones((len(Ytest), 1)), Xtest)) \n",
    "Xremain = np.hstack((np.ones((len(Yremain), 1)), Xremain))\n",
    "\n",
    "# the sigmoid function\n",
    "def sigmoid(z):\n",
    "    return 1/(1+np.exp(-z))\n",
    "\n",
    "# the LogLoss function (cost function) with Regularization\n",
    "def LogLoss(W, X, Y, alpha):\n",
    "    p_y = sigmoid(np.dot(X, W)) # y = np.dot(X, W)\n",
    "    \n",
    "    #calclulating the Log Loss\n",
    "    lg = (np.sum((np.multiply(Y, np.log(p_y))) + (np.multiply(1-Y, np.log(1-p_y)))))/(-len(Y))\n",
    "    \n",
    "    # applying Regularization using norm2\n",
    "    W_norm2 = np.linalg.norm(W[1:], ord=None, axis=None, keepdims=False) # (W_transpose).W\n",
    "    \n",
    "    return lg + W_norm2*alpha/(2*(len(Y)))\n",
    "    \n",
    "    # applying Regularization using norm1\n",
    "    #W_norm1 = np.linalg.norm(W[1:], ord = 1, axis=None, keepdims=False)\n",
    "    #return lg + W_norm1*alpha/(2*(len(Y)))\n",
    "    \n",
    "\n",
    "    \n",
    "# the Gradient descent function   \n",
    "def grad(W, X, Y, alpha):  # with Regularization\n",
    "    m = len(Y)\n",
    "    temp = sigmoid(np.dot(X, W)) - Y\n",
    "    temp = (np.dot(temp.T, X).T / m)\n",
    "    return temp \n",
    "\n",
    "\n",
    "number_of_classes = 10 \n",
    "n = len(Xtrain[0])\n",
    "\n",
    "# W : contains the coefficients (one row for each number)\n",
    "W = np.zeros((number_of_classes, n))\n",
    "\n",
    "\n",
    "# regularization parameter \n",
    "alpha = 0.1\n",
    "\n",
    "#calculating the coefficient matrix\n",
    "#max iterations = 20\n",
    "for i in range(number_of_classes):\n",
    "    W[i] = opt.fmin_cg(f = LogLoss, x0 = W[i],  fprime = grad, args = (Xtrain, (Ytrain == i).flatten(), alpha), maxiter = 20)\n",
    "    \n",
    "stop = timeit.default_timer()"
   ]
  },
  {
   "cell_type": "code",
   "execution_count": 6,
   "id": "a2d0c33e",
   "metadata": {},
   "outputs": [
    {
     "name": "stdout",
     "output_type": "stream",
     "text": [
      "train accuracy :  95.875\n",
      "test accuracy :  91.485\n",
      "remaining accuracy :  92.80601288475305\n"
     ]
    }
   ],
   "source": [
    "# which class(0-9) is most probable for each data point?\n",
    "train_predict = np.argmax(np.dot(Xtrain, W.T), axis = 1)\n",
    "#printing the accuracy\n",
    "print(\"train accuracy : \", np.mean(train_predict == Ytrain.flatten()) * 100)\n",
    "\n",
    "test_predict = np.argmax(np.dot(Xtest, W.T), axis = 1)\n",
    "print(\"test accuracy : \",np.mean(test_predict == Ytest.flatten()) * 100)\n",
    "\n",
    "remain_predict = np.argmax(np.dot(Xremain, W.T), axis = 1)\n",
    "print(\"remaining accuracy : \",np.mean(remain_predict == Yremain.flatten()) * 100)"
   ]
  },
  {
   "cell_type": "code",
   "execution_count": 7,
   "id": "3022b382",
   "metadata": {},
   "outputs": [
    {
     "name": "stdout",
     "output_type": "stream",
     "text": [
      "The predicted number is:  0\n"
     ]
    },
    {
     "data": {
      "text/plain": [
       "<matplotlib.image.AxesImage at 0x249059beb50>"
      ]
     },
     "execution_count": 7,
     "metadata": {},
     "output_type": "execute_result"
    },
    {
     "data": {
      "image/png": "[encoded data removed]",
      "text/plain": [
       "<Figure size 432x288 with 1 Axes>"
      ]
     },
     "metadata": {
      "needs_background": "light"
     },
     "output_type": "display_data"
    }
   ],
   "source": [
    "#testing samples\n",
    "print(\"The predicted number is: \", test_predict[50])\n",
    "plt.imshow(X_test[50].reshape([32, 32]), cmap='gray')"
   ]
  },
  {
   "cell_type": "code",
   "execution_count": 8,
   "id": "497ef085",
   "metadata": {},
   "outputs": [
    {
     "name": "stdout",
     "output_type": "stream",
     "text": [
      "The predicted number is:  1\n"
     ]
    },
    {
     "data": {
      "text/plain": [
       "<matplotlib.image.AxesImage at 0x24906ab0070>"
      ]
     },
     "execution_count": 8,
     "metadata": {},
     "output_type": "execute_result"
    },
    {
     "data": {
      "image/png": "[encoded data removed]",
      "text/plain": [
       "<Figure size 432x288 with 1 Axes>"
      ]
     },
     "metadata": {
      "needs_background": "light"
     },
     "output_type": "display_data"
    }
   ],
   "source": [
    "print(\"The predicted number is: \", test_predict[2000])\n",
    "plt.imshow(X_test[2000].reshape([32, 32]), cmap='gray')"
   ]
  },
  {
   "cell_type": "code",
   "execution_count": 9,
   "id": "21785db3",
   "metadata": {},
   "outputs": [
    {
     "name": "stdout",
     "output_type": "stream",
     "text": [
      "The predicted number is:  4\n"
     ]
    },
    {
     "data": {
      "text/plain": [
       "<matplotlib.image.AxesImage at 0x24906b17700>"
      ]
     },
     "execution_count": 9,
     "metadata": {},
     "output_type": "execute_result"
    },
    {
     "data": {
      "image/png": "[encoded data removed]",
      "text/plain": [
       "<Figure size 432x288 with 1 Axes>"
      ]
     },
     "metadata": {
      "needs_background": "light"
     },
     "output_type": "display_data"
    }
   ],
   "source": [
    "print(\"The predicted number is: \", test_predict[9000])\n",
    "plt.imshow(X_test[9000].reshape([32, 32]), cmap='gray')"
   ]
  },
  {
   "cell_type": "code",
   "execution_count": 10,
   "id": "c2294a1e",
   "metadata": {},
   "outputs": [
    {
     "name": "stdout",
     "output_type": "stream",
     "text": [
      "The predicted number is:  9\n"
     ]
    },
    {
     "data": {
      "text/plain": [
       "<matplotlib.image.AxesImage at 0x24906b81580>"
      ]
     },
     "execution_count": 10,
     "metadata": {},
     "output_type": "execute_result"
    },
    {
     "data": {
      "image/png": "[encoded data removed]",
      "text/plain": [
       "<Figure size 432x288 with 1 Axes>"
      ]
     },
     "metadata": {
      "needs_background": "light"
     },
     "output_type": "display_data"
    }
   ],
   "source": [
    "#wrongly predicted\n",
    "print(\"The predicted number is: \", test_predict[16000])\n",
    "plt.imshow(X_test[16000].reshape([32, 32]), cmap='gray')"
   ]
  },
  {
   "cell_type": "code",
   "execution_count": 11,
   "id": "91ecc02e",
   "metadata": {},
   "outputs": [
    {
     "name": "stdout",
     "output_type": "stream",
     "text": [
      "AxesSubplot(0.125,0.125;0.62x0.755)\n",
      "              precision    recall  f1-score   support\n",
      "\n",
      "         0.0       0.96      0.97      0.97      2000\n",
      "         1.0       0.91      0.97      0.94      2000\n",
      "         2.0       0.83      0.83      0.83      2000\n",
      "         3.0       0.88      0.85      0.86      2000\n",
      "         4.0       0.89      0.86      0.87      2000\n",
      "         5.0       0.95      0.97      0.96      2000\n",
      "         6.0       0.92      0.87      0.89      2000\n",
      "         7.0       0.97      0.95      0.96      2000\n",
      "         8.0       0.97      0.94      0.95      2000\n",
      "         9.0       0.88      0.93      0.90      2000\n",
      "\n",
      "    accuracy                           0.91     20000\n",
      "   macro avg       0.92      0.91      0.91     20000\n",
      "weighted avg       0.92      0.91      0.91     20000\n",
      "\n"
     ]
    },
    {
     "data": {
      "image/png": "[encoded data removed]",
      "text/plain": [
       "<Figure size 432x288 with 2 Axes>"
      ]
     },
     "metadata": {
      "needs_background": "light"
     },
     "output_type": "display_data"
    }
   ],
   "source": [
    "from sklearn.metrics import confusion_matrix\n",
    "from sklearn.metrics import classification_report\n",
    "confusion_m = confusion_matrix(Ytest, test_predict)\n",
    "import seaborn as sns\n",
    "#printing precision, recall and f-1 score\n",
    "print(sns.heatmap(confusion_m, annot = False))\n",
    "#printing the heatmap\n",
    "print(classification_report(Ytest, test_predict))"
   ]
  },
  {
   "cell_type": "code",
   "execution_count": 12,
   "id": "1108d0f1",
   "metadata": {},
   "outputs": [],
   "source": [
    "%%capture\n",
    "#using built-in python function for logistic regression\n",
    "start1 = timeit.default_timer()\n",
    "from sklearn.linear_model import LogisticRegression\n",
    "\n",
    "logistic_reg = LogisticRegression()\n",
    "logistic_reg.fit(X_train, Y_train)\n",
    "\n",
    "stop1 = timeit.default_timer()"
   ]
  },
  {
   "cell_type": "code",
   "execution_count": 13,
   "id": "3a044a25",
   "metadata": {},
   "outputs": [
    {
     "name": "stdout",
     "output_type": "stream",
     "text": [
      "AxesSubplot(0.125,0.125;0.62x0.755)\n",
      "              precision    recall  f1-score   support\n",
      "\n",
      "         0.0       0.96      0.98      0.97      2000\n",
      "         1.0       0.93      0.97      0.95      2000\n",
      "         2.0       0.84      0.87      0.86      2000\n",
      "         3.0       0.89      0.86      0.88      2000\n",
      "         4.0       0.87      0.88      0.88      2000\n",
      "         5.0       0.96      0.95      0.96      2000\n",
      "         6.0       0.91      0.90      0.90      2000\n",
      "         7.0       0.98      0.96      0.97      2000\n",
      "         8.0       0.97      0.94      0.95      2000\n",
      "         9.0       0.92      0.92      0.92      2000\n",
      "\n",
      "    accuracy                           0.92     20000\n",
      "   macro avg       0.92      0.92      0.92     20000\n",
      "weighted avg       0.92      0.92      0.92     20000\n",
      "\n"
     ]
    },
    {
     "data": {
      "image/png": "[encoded data removed]",
      "text/plain": [
       "<Figure size 432x288 with 2 Axes>"
      ]
     },
     "metadata": {
      "needs_background": "light"
     },
     "output_type": "display_data"
    }
   ],
   "source": [
    "#printing precision, recall, f1-score and the heatmap for comparison\n",
    "confusion_m2 = confusion_matrix(Y_test, logistic_reg.predict(X_test))\n",
    "print(sns.heatmap(confusion_m2, annot = False))\n",
    "print(classification_report(Y_test, logistic_reg.predict(X_test)))"
   ]
  },
  {
   "cell_type": "code",
   "execution_count": 14,
   "id": "dfc67836",
   "metadata": {},
   "outputs": [
    {
     "name": "stdout",
     "output_type": "stream",
     "text": [
      "Our logistic regression running time:  66.39345349999999\n",
      "Built-in logistic regression running time:  29.761046599999986\n"
     ]
    }
   ],
   "source": [
    "print(\"Our logistic regression running time: \", stop - start) \n",
    "print(\"Built-in logistic regression running time: \", stop1 - start1) "
   ]
  },
  {
   "cell_type": "code",
   "execution_count": null,
   "id": "a96745cd",
   "metadata": {},
   "outputs": [],
   "source": []
  }
 ],
 "metadata": {
  "kernelspec": {
   "display_name": "Python 3",
   "language": "python",
   "name": "python3"
  },
  "language_info": {
   "codemirror_mode": {
    "name": "ipython",
    "version": 3
   },
   "file_extension": ".py",
   "mimetype": "text/x-python",
   "name": "python",
   "nbconvert_exporter": "python",
   "pygments_lexer": "ipython3",
   "version": "3.9.0"
  }
 },
 "nbformat": 4,
 "nbformat_minor": 5
}
