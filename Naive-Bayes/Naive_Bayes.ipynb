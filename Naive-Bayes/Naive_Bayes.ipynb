{
 "cells": [
  {
   "cell_type": "code",
   "execution_count": 1,
   "metadata": {
    "id": "_fADt8EfOQas"
   },
   "outputs": [],
   "source": [
    "import numpy as np\n",
    "np.seterr(divide='ignore', invalid='ignore')\n",
    "from re import findall\n",
    "from hazm import Stemmer, word_tokenize\n",
    "from sklearn.feature_selection import chi2, SelectKBest\n",
    "from glob import glob\n",
    "from sklearn.feature_extraction.text import CountVectorizer\n",
    "from sklearn.naive_bayes import GaussianNB, MultinomialNB\n",
    "from sklearn.metrics import classification_report, confusion_matrix, accuracy_score\n",
    "import time\n",
    "\n",
    "\"\"\"Countvectorzer initialize\"\"\"\n",
    "vect = CountVectorizer()\n",
    "is_file = True\n",
    "\n",
    "\"\"\"stemmer from hazm\"\"\"\n",
    "stemmer = Stemmer()\n",
    "stopwords = set(open('stop-words.txt', encoding='utf8').read().splitlines())\n",
    "hamtrains = glob('dataset/hamtraining/hamtraining*.txt')\n",
    "spamtrains = glob('dataset/spamtraining/spamtraining*.txt')\n",
    "\n",
    "hamtests = glob('dataset/hamtesting/hamtesting*.txt')\n",
    "spamtests = glob('dataset/spamtesting/spamtesting*.txt')\n",
    "\n",
    "ham_spam_test = hamtests + spamtests\n",
    "ham_spam_train = hamtrains + spamtrains\n",
    "\n",
    "y_train = [False for i in range(300)]\n",
    "y_spam_train = [True for i in range(300)]\n",
    "y_train.extend(y_spam_train)\n",
    "\n",
    "\n",
    "y_test = [False for i in range(200)]\n",
    "y_spam_test = [True for i in range(200)]\n",
    "y_test.extend(y_spam_test)"
   ]
  },
  {
   "cell_type": "markdown",
   "metadata": {
    "id": "RkAXHzrkL1S5"
   },
   "source": [
    "### Preprocess"
   ]
  },
  {
   "cell_type": "code",
   "execution_count": 2,
   "metadata": {
    "id": "TLo8Z3tjNY6A"
   },
   "outputs": [],
   "source": [
    "class const:\n",
    "    farsi = ('ب', 'س', 'ش', 'ل', 'ت', 'ن', 'م', 'گ', 'ظ', 'ط', 'ز',\n",
    "             'ر', 'ژ', 'ذ', 'د', 'پ', 'چ', 'ج', 'ح', 'ع', \n",
    "             'خ', 'غ', 'ف', 'ق', 'ث', 'ص', 'ض','\\u0020', '\\u060c','؟', '!', '?', '.', ':','\\n','_')\n",
    "\n",
    "    alef = ('ا', 'آ', 'ء', 'أ', 'إ')\n",
    "    vav = ('و', 'ؤ')\n",
    "    heh = ('ه', 'ة', 'ە')\n",
    "    yah = ('ی', 'ي', 'ئ', 'ى')\n",
    "    kaf = ('ک', 'ك')\n",
    "    punc = ('_', '-')\n",
    "\n",
    "def persian_char(char):\n",
    "    if char in const.farsi:\n",
    "        return char\n",
    "    if char in const.alef:\n",
    "        return const.alef[0]\n",
    "    if char in const.vav:\n",
    "        return const.vav[0]\n",
    "    if char in const.heh:\n",
    "        return const.heh[0]\n",
    "    if char in const.yah:\n",
    "        return const.yah[0]\n",
    "    if char in const.kaf:\n",
    "        return const.kaf[0]\n",
    "    if char in const.punc:\n",
    "      return ' '\n",
    "    return ''\n",
    "\n",
    "def pre_process(path):\n",
    "    if is_file == False:\n",
    "        text = path\n",
    "    else:\n",
    "        text = open(path, encoding='utf8').read()\n",
    "\n",
    "#     urls = len(findall('(?:(?:https?|ftp):\\/\\/)?[\\w/\\-?=%.]+\\.[\\w/\\-?=%.]+', text))\n",
    "    \n",
    "    map_test = map(persian_char, text)\n",
    "    sentence = ''.join(map_test)\n",
    "    word_tokens = word_tokenize(sentence)\n",
    "    filtered_sentence = [w for w in word_tokens if w not in stopwords] #+ ['url' for i in range(urls)]\n",
    "    filtered_sentence = ' '.join(filtered_sentence)\n",
    "    return filtered_sentence"
   ]
  },
  {
   "cell_type": "code",
   "execution_count": 3,
   "metadata": {
    "id": "eq6fmbKJNAON"
   },
   "outputs": [],
   "source": [
    "def feature(data):\n",
    "    if is_file == False:\n",
    "        feature_list = [pre_process(data)]\n",
    "    else:    \n",
    "        map_loop = map(pre_process, data)\n",
    "        feature_list = list(map_loop)\n",
    "    return feature_list"
   ]
  },
  {
   "cell_type": "code",
   "execution_count": 4,
   "metadata": {
    "id": "f4W7WDyHSIqJ"
   },
   "outputs": [],
   "source": [
    "def vectorize(feature_list):\n",
    "    X_dtm = vect.fit_transform(feature_list)\n",
    "    X_dtm = X_dtm.toarray()\n",
    "    return X_dtm"
   ]
  },
  {
   "cell_type": "code",
   "execution_count": 5,
   "metadata": {
    "id": "EctJShjtRrtx"
   },
   "outputs": [],
   "source": [
    "def feature_selection(k,X_dtm):\n",
    "    chi2_features = SelectKBest(chi2, k=k)\n",
    "    X_kbest_features = chi2_features.fit_transform(X_dtm, y_train)\n",
    "    return X_kbest_features, chi2_features"
   ]
  },
  {
   "cell_type": "code",
   "execution_count": 6,
   "metadata": {
    "id": "kW63H6H2M081"
   },
   "outputs": [],
   "source": [
    "def transform(data,chi2_features):\n",
    "    tokens = feature(data)\n",
    "    x0 = vect.transform(tokens).toarray()\n",
    "    cx = chi2_features.transform(x0)\n",
    "    return cx"
   ]
  },
  {
   "cell_type": "code",
   "execution_count": 22,
   "metadata": {
    "id": "QG_JW7OCRv33"
   },
   "outputs": [],
   "source": [
    "X_dtm = vectorize(feature(ham_spam_train))\n",
    "x_train, chi2_features = feature_selection(700,X_dtm)"
   ]
  },
  {
   "cell_type": "markdown",
   "metadata": {
    "id": "So9qhaNiL6k2"
   },
   "source": [
    "### Just for Intuition"
   ]
  },
  {
   "cell_type": "code",
   "execution_count": 8,
   "metadata": {
    "colab": {
     "base_uri": "https://localhost:8080/"
    },
    "id": "1KVb5YkTRxbH",
    "outputId": "34bd04b5-0539-4a67-decd-4a73cbae81a7"
   },
   "outputs": [
    {
     "data": {
      "text/plain": [
       "MultinomialNB()"
      ]
     },
     "execution_count": 8,
     "metadata": {},
     "output_type": "execute_result"
    }
   ],
   "source": [
    "# gnb = GaussianNB()\n",
    "mnb = MultinomialNB()\n",
    "mnb.fit(x_train,y_train)"
   ]
  },
  {
   "cell_type": "code",
   "execution_count": 40,
   "metadata": {
    "id": "do9ij0utRzKN"
   },
   "outputs": [
    {
     "data": {
      "text/plain": [
       "0"
      ]
     },
     "execution_count": 40,
     "metadata": {},
     "output_type": "execute_result"
    }
   ],
   "source": [
    "\"\"\"Just for test and compare\"\"\"\n",
    "x_test = transform(ham_spam_test, chi2_features)\n",
    "predict_val = mnb.predict(x_test)\n",
    "aaaa = x_train[range(5)]\n",
    "bbbb = list(map(sum,zip(*aaaa)))\n",
    "bbbb[6]"
   ]
  },
  {
   "cell_type": "code",
   "execution_count": 10,
   "metadata": {
    "colab": {
     "base_uri": "https://localhost:8080/"
    },
    "id": "dqVRo_9cR1UB",
    "outputId": "91fade46-9687-4d17-8678-67d74eb70ef1"
   },
   "outputs": [
    {
     "name": "stdout",
     "output_type": "stream",
     "text": [
      "              precision    recall  f1-score   support\n",
      "\n",
      "       False       0.93      0.97      0.95       200\n",
      "        True       0.97      0.93      0.95       200\n",
      "\n",
      "    accuracy                           0.95       400\n",
      "   macro avg       0.95      0.95      0.95       400\n",
      "weighted avg       0.95      0.95      0.95       400\n",
      "\n"
     ]
    }
   ],
   "source": [
    "\"\"\"Show metrics and score!\"\"\"\n",
    "print(classification_report(y_test, predict_val))"
   ]
  },
  {
   "cell_type": "markdown",
   "metadata": {
    "id": "4T_yx4pSNBbK"
   },
   "source": [
    "### Naive bayes model"
   ]
  },
  {
   "cell_type": "markdown",
   "metadata": {
    "id": "PgA5NkyZViH-"
   },
   "source": [
    "<h2 dir=\"rtl\"> ویدیو بسیار مفید برای ساخت مدل<h2>\n",
    "<h2><a href=\"https://www.youtube.com/watch?v=O2L2Uv9pdDA\">Naive Bayes, Clearly Explained!!!</a><h2>"
   ]
  },
  {
   "cell_type": "markdown",
   "metadata": {
    "id": "8mkQImpgGIUK"
   },
   "source": [
    "<h3 dir=\"rtl\">خرجی تابع\n",
    "transform \n",
    "وکتورایز شده هر یک از سمپل‌های موجود در دیتاست تست است.\n",
    "به طوری که تعداد اعضای \n",
    "test_data\n",
    "برابر با 400 نمونه متنی است که برای تست کردن مدل مورد استفاده قرار میگیرد.\n",
    "هر یک از سمپل‌ها دارای وکتوری به طول 700 میباشد، که تعداد فیچرهای(کلمات) برتر انتخاب شده توسط تابع SelectKBest \n",
    "اند.\n",
    "\n",
    "در این وکتور 700 بعدی مقدار هر یک از اندیس‌ها نشان دهنده تکرار آن کلمه در آن سمپل خاص هست.\n",
    "\n",
    "راهنمایی ساخت جدول احتمالات:\n",
    "شما با کمک تکرار کلمات در هر سمپل و اینکه هر کلمه در کل نمونه‌های \n",
    "spam\n",
    "یا\n",
    "ham\n",
    "چند بار تکرار شده است میتوانید احتمال رخدادن هر کلمه را در هر دسته بدست آورید\n",
    "که در نهایت با ضرب احتمالات بدست آمده تعیین میکنید که ایمیل \n",
    "spam\n",
    "است یا نه.\n",
    "\n",
    "به این شکل که بعد از ضرب احتمالات در هم دیگر؛ اگر مقدار احتمال دسته \n",
    "spam \n",
    "بیشتر از دسته \n",
    "ham(nonspam)\n",
    "بود،\n",
    "آنگاه آن ایمیل spam \n",
    "است.\n",
    "<h3>"
   ]
  },
  {
   "cell_type": "code",
   "execution_count": 43,
   "metadata": {
    "id": "5PWMEKHsNhaS"
   },
   "outputs": [],
   "source": [
    "test_data = transform(ham_spam_test, chi2_features)"
   ]
  },
  {
   "cell_type": "code",
   "execution_count": 44,
   "metadata": {
    "colab": {
     "base_uri": "https://localhost:8080/"
    },
    "id": "7vVys7IZJLUJ",
    "outputId": "a7acc491-9ac2-44f8-b745-f2e221a2bd6d"
   },
   "outputs": [
    {
     "data": {
      "text/plain": [
       "array([0, 0, 0, 0, 0, 0, 0, 0, 0, 0, 0, 0, 0, 0, 0, 0, 0, 0, 0, 0, 0, 0,\n",
       "       0, 0, 0, 0, 0, 0, 0, 0, 0, 0, 0, 0, 0, 0, 0, 0, 0, 0, 0, 0, 0, 0,\n",
       "       0, 0, 0, 0, 0, 0, 0, 0, 0, 0, 0, 0, 0, 0, 0, 0, 0, 0, 0, 0, 0, 0,\n",
       "       0, 0, 0, 0, 0, 0, 0, 0, 0, 0, 0, 0, 0, 0, 0, 0, 0, 0, 0, 0, 0, 0,\n",
       "       0, 0, 0, 0, 0, 0, 0, 0, 0, 0, 0, 0, 0, 0, 0, 0, 0, 0, 0, 0, 0, 0,\n",
       "       0, 0, 0, 0, 0, 0, 0, 0, 0, 0, 0, 0, 0, 0, 0, 0, 0, 0, 0, 0, 0, 0,\n",
       "       0, 0, 0, 0, 0, 0, 0, 0, 0, 0, 0, 0, 0, 0, 0, 0, 0, 0, 0, 0, 0, 0,\n",
       "       0, 0, 0, 0, 0, 0, 0, 0, 0, 0, 0, 0, 0, 0, 0, 0, 0, 0, 0, 0, 0, 0,\n",
       "       0, 0, 0, 0, 0, 0, 0, 0, 0, 0, 0, 0, 0, 0, 0, 0, 0, 0, 0, 0, 0, 0,\n",
       "       0, 0, 0, 0, 0, 0, 0, 0, 0, 0, 0, 0, 0, 0, 0, 0, 0, 0, 0, 0, 0, 0,\n",
       "       0, 0, 0, 0, 0, 0, 0, 0, 0, 0, 0, 0, 0, 0, 0, 0, 0, 0, 0, 0, 0, 0,\n",
       "       0, 0, 0, 0, 0, 0, 0, 0, 0, 0, 0, 0, 0, 0, 0, 0, 0, 0, 0, 0, 0, 0,\n",
       "       0, 0, 0, 0, 0, 0, 0, 0, 0, 0, 0, 0, 0, 0, 0, 0, 0, 0, 0, 0, 0, 0,\n",
       "       0, 0, 0, 0, 0, 0, 0, 0, 0, 0, 0, 0, 0, 0, 0, 0, 0, 0, 0, 0, 0, 0,\n",
       "       0, 0, 0, 0, 0, 0, 0, 0, 0, 0, 0, 0, 0, 0, 0, 0, 0, 0, 0, 0, 0, 0,\n",
       "       0, 0, 0, 0, 0, 0, 0, 0, 0, 0, 0, 0, 0, 0, 0, 0, 0, 0, 0, 0, 0, 0,\n",
       "       0, 0, 0, 0, 0, 0, 0, 0, 0, 0, 0, 0, 0, 0, 0, 0, 0, 0, 0, 0, 0, 0,\n",
       "       0, 0, 0, 0, 0, 0, 1, 0, 0, 0, 0, 0, 0, 0, 0, 0, 0, 0, 0, 0, 0, 0,\n",
       "       0, 0, 0, 0, 0, 0, 0, 0, 0, 0, 0, 0, 0, 0, 0, 0, 0, 0, 0, 0, 0, 0,\n",
       "       0, 0, 0, 0, 0, 0, 0, 0, 0, 0, 0, 0, 0, 0, 0, 0, 0, 0, 0, 0, 0, 0,\n",
       "       0, 0, 0, 0, 0, 0, 0, 0, 0, 0, 0, 0, 0, 1, 0, 0, 0, 0, 0, 0, 0, 0,\n",
       "       0, 0, 0, 0, 0, 0, 0, 0, 0, 0, 0, 0, 0, 0, 0, 0, 0, 0, 0, 0, 0, 0,\n",
       "       0, 0, 0, 0, 0, 0, 0, 0, 0, 0, 0, 0, 0, 0, 0, 0, 0, 0, 0, 0, 0, 0,\n",
       "       0, 0, 0, 0, 0, 0, 0, 0, 0, 0, 0, 0, 0, 0, 0, 0, 0, 0, 0, 0, 1, 0,\n",
       "       0, 0, 0, 0, 0, 0, 0, 0, 0, 0, 0, 0, 0, 0, 0, 0, 0, 0, 0, 0, 0, 0,\n",
       "       0, 0, 0, 0, 0, 0, 0, 0, 0, 0, 0, 0, 0, 0, 0, 0, 0, 0, 0, 0, 0, 0,\n",
       "       0, 0, 0, 0, 0, 0, 0, 0, 0, 0, 0, 0, 0, 0, 0, 0, 0, 0, 0, 0, 0, 0,\n",
       "       0, 0, 0, 0, 0, 1, 0, 0, 0, 0, 0, 0, 0, 0, 0, 0, 0, 0, 0, 0, 0, 0,\n",
       "       0, 0, 0, 0, 0, 0, 0, 0, 0, 0, 0, 0, 0, 0, 0, 0, 0, 0, 0, 0, 0, 0,\n",
       "       0, 0, 0, 0, 0, 0, 0, 0, 0, 0, 0, 0, 0, 0, 0, 0, 0, 0, 0, 0, 0, 0,\n",
       "       0, 0, 0, 0, 0, 0, 0, 0, 0, 0, 0, 0, 0, 0, 0, 0, 0, 0, 0, 0, 0, 0,\n",
       "       0, 0, 0, 0, 0, 0, 0, 0, 0, 0, 0, 0, 0, 0, 0, 0, 0, 0], dtype=int64)"
      ]
     },
     "execution_count": 44,
     "metadata": {},
     "output_type": "execute_result"
    }
   ],
   "source": [
    "test_data[0]"
   ]
  },
  {
   "cell_type": "markdown",
   "metadata": {
    "id": "CItWMrA3JqAY"
   },
   "source": [
    "<h3 dir=\"rtl\"> \n",
    "شما باید با کمک این فیچر‌ها مدل \n",
    "naive bayes \n",
    "را برای تشخیص ایمیل‌های \n",
    "spam, nonspam\n",
    "آماده سازی کنید.\n",
    "خروجی کار شما باید لیبل‌های باشد که تعیین میکند،\n",
    "ایمیل \n",
    "spam هست\n",
    "یا نه.\n",
    "\n",
    "<h3>"
   ]
  },
  {
   "cell_type": "markdown",
   "metadata": {
    "id": "6yApjdXwLtOG"
   },
   "source": [
    "<h1>Please implement your naive bayse model in here.<h1>"
   ]
  },
  {
   "cell_type": "code",
   "execution_count": 49,
   "metadata": {
    "id": "VDLFHZYZLWdr"
   },
   "outputs": [],
   "source": [
    "### START CODE HERE ### \n",
    "#Build your naive bayes classifier!\n",
    "#True -> spam\n",
    "#False -> ham\n",
    "ind = y_train.index(True)\n",
    "email_ham_prob = ind/len(x_train)\n",
    "email_spam_prob = 1 - email_ham_prob\n",
    "ham_x_train = x_train[range(ind)]\n",
    "ham_sums = list(map(sum, zip(*ham_x_train)))\n",
    "ham_total = sum(ham_sums)\n",
    "alpha = 1\n",
    "smooth_ham_sums = [x+alpha for x in ham_sums]\n",
    "smooth_ham_total = ham_total + 700 * alpha\n",
    "ham_probabilities = [x/smooth_ham_total for x in smooth_ham_sums]\n",
    "\n",
    "#print(\"ham_probabilities : \"+str(ham_probabilities))\n",
    "\n",
    "spam_x_train = x_train[range(ind,len(x_train))]\n",
    "spam_sums = list(map(sum, zip(*spam_x_train)))\n",
    "spam_total = sum(spam_sums)\n",
    "smooth_spam_sums = [x+alpha for x in spam_sums]\n",
    "smooth_spam_total = spam_total + 700 * alpha\n",
    "spam_probabilities = [x/smooth_spam_total for x in smooth_spam_sums]\n",
    "### END CODE HERE ###"
   ]
  },
  {
   "cell_type": "code",
   "execution_count": 58,
   "metadata": {
    "id": "yY8f_1_rFJSA"
   },
   "outputs": [],
   "source": [
    "### START CODE HERE ### \n",
    "# y_predict = YOUR_MODEL(test_data)\n",
    "def My_model(test_data):\n",
    "    y_pred = []\n",
    "    for i in range(len(test_data)):\n",
    "        t = test_data[i]\n",
    "        hp = np.array(ham_probabilities)\n",
    "        ham_p = np.prod(np.power(hp,t)) * email_ham_prob\n",
    "        \n",
    "        sp = np.array(spam_probabilities)\n",
    "        spam_p = np.prod(np.power(sp,t)) * email_spam_prob\n",
    "        if spam_p >= ham_p:\n",
    "            y_pred.append(True) #spam\n",
    "        else:\n",
    "            y_pred.append(False) #ham\n",
    "        \n",
    "    return y_pred\n",
    "\n",
    "y_predict = My_model(test_data)\n",
    "#print(\"y_predict is : \",str(y_predict))\n",
    "#set(y_test) - set(y_predict)\n",
    "### END CODE HERE ###"
   ]
  },
  {
   "cell_type": "markdown",
   "metadata": {
    "id": "H2dZ-dvANM1n"
   },
   "source": [
    "### Result"
   ]
  },
  {
   "cell_type": "code",
   "execution_count": 59,
   "metadata": {
    "colab": {
     "base_uri": "https://localhost:8080/"
    },
    "id": "dSBVMGRAMUX-",
    "outputId": "ffc3c198-b838-4988-c41a-d6194388a441"
   },
   "outputs": [
    {
     "name": "stdout",
     "output_type": "stream",
     "text": [
      "              precision    recall  f1-score   support\n",
      "\n",
      "       False       0.93      0.97      0.95       200\n",
      "        True       0.97      0.93      0.95       200\n",
      "\n",
      "    accuracy                           0.95       400\n",
      "   macro avg       0.95      0.95      0.95       400\n",
      "weighted avg       0.95      0.95      0.95       400\n",
      "\n"
     ]
    }
   ],
   "source": [
    "\"\"\"Show metrics and score!\"\"\"\n",
    "print(classification_report(y_test, y_predict))"
   ]
  },
  {
   "cell_type": "code",
   "execution_count": 69,
   "metadata": {},
   "outputs": [
    {
     "data": {
      "image/png": "[encoded data removed]",
      "text/plain": [
       "<Figure size 432x288 with 2 Axes>"
      ]
     },
     "metadata": {},
     "output_type": "display_data"
    }
   ],
   "source": [
    "from sklearn.metrics import confusion_matrix, ConfusionMatrixDisplay\n",
    "import seaborn as sn\n",
    "import pandas as pd\n",
    "import matplotlib.pyplot as plt\n",
    "\n",
    "cm = confusion_matrix(y_test, y_predict, labels=[True,False])\n",
    "df_cm = pd.DataFrame(cm,range(2),range(2))\n",
    "sn.set(font_scale=1.4) # for label size\n",
    "sn.heatmap(df_cm,annot=True) # font size\n",
    "plt.show()"
   ]
  },
  {
   "cell_type": "markdown",
   "metadata": {},
   "source": [
    "<h3 dir=\"rtl\">\n",
    "   در مواقعی که با \n",
    "    skewed classes\n",
    "    سروکار داریم،\n",
    "    accuracy\n",
    "    معیار دقیقی برای سنجش عملکرد مدل به‌شمار نمی‌آید.\n",
    "      برای مثال،در مسئله پیش بینی سرطان،درصورتیکه تنها 0.5درصد از مراجعان سرطان داشته باشند،\n",
    "    کدی که همواره \n",
    "    y=0\n",
    "    را پیش بینی کند نیز \n",
    "    accuracy\n",
    "    بالایی خواهد داشت.\n",
    "    برای حل این مشکل،می‌توان از معیار های \n",
    "    precision\n",
    "    و\n",
    "    recall\n",
    "    استفاده کرد.\n",
    "    \n",
    "    \n",
    "<h3>"
   ]
  },
  {
   "cell_type": "markdown",
   "metadata": {},
   "source": [
    "<h3 dir=\"rtl\">\n",
    "   precision\n",
    "    :\n",
    "   چند درصد از افرادی که مدل پیش‌بینی کرده سرطان دارند،واقعا سرطان دارند؟ \n",
    "<h3>"
   ]
  },
  {
   "cell_type": "markdown",
   "metadata": {},
   "source": [
    "<h3 dir=\"rtl\">\n",
    "   recall\n",
    "    :\n",
    "    از بین تمام مراجعینی که واقعا سرطان دارند،چند درصدشان توسط مدل ما شناسایی شده اند؟ \n",
    "<h3>"
   ]
  },
  {
   "cell_type": "markdown",
   "metadata": {},
   "source": [
    "<h3 dir=\"rtl\">\n",
    " مدلی که بدون یادگیری عمل کند و همواره \n",
    "    y=0\n",
    "    یا\n",
    "    y=1\n",
    "    را پیش بینی کند،نمی‌تواند همزمان مقادیر \n",
    "    precision\n",
    "    و\n",
    "    recall\n",
    "    خوبی داشته باشد.\n",
    "    اگر هدف مان این باشد که تنها درصورتی به بیمار بگوییم سرطان دارد که درصد اطمینان بالایی داشته باشیم،\n",
    "    دراینصورت مدلی با \n",
    "    precision\n",
    "    بالا و به تبع آن،\n",
    "    recall\n",
    "    کمتر به هدف ما نزدیکتر خواهد بود.\n",
    "    اما از طرفی مدل نباید تعداد زیادی از کیس های سرطانی را ازدست بدهد\n",
    "    (اعلام کند که سرطان ندارند)\n",
    "    برای رسیدن به هدف دوم،مدلی مناسبتر است که\n",
    "    recall\n",
    "    بالایی داشته باشد که بدین ترتیب،\n",
    "    precision\n",
    "    کاهش خواهد یافت.\n",
    "    پس نیازمند برقراری تعادل میان مقادیر \n",
    "    precision\n",
    "    و \n",
    "    recall \n",
    "    هستیم.\n",
    "    \n",
    "<h3>"
   ]
  },
  {
   "cell_type": "markdown",
   "metadata": {},
   "source": [
    "<h3 dir=\"rtl\">\n",
    "   معیار ارزیابی\n",
    "    F1 score\n",
    "    این کار را برای ما انجام می‌دهد.\n",
    "<h3>"
   ]
  },
  {
   "cell_type": "markdown",
   "metadata": {},
   "source": [
    "$F_{1} score = 2 * \\frac{P*R}{P+R}$"
   ]
  },
  {
   "cell_type": "markdown",
   "metadata": {},
   "source": [
    "<h2 dir=\"rtl\">\n",
    "    گزارش کد\n",
    "<h2>"
   ]
  },
  {
   "cell_type": "markdown",
   "metadata": {},
   "source": [
    "<h3 dir=\"rtl\">\n",
    "    با توجه به اینکه در \n",
    "    y_train\n",
    "    تمامی \n",
    "    True\n",
    "    و\n",
    "    False\n",
    "    ها پشت سر هم هستند،با پیدا کردن اندیس اولین \n",
    "    True\n",
    "    می‌توان \n",
    "    x_train\n",
    "    را به دو دسته \n",
    "    ham_x_train\n",
    "    و\n",
    "    spam_x_train\n",
    "    تقسیم کرد.\n",
    "    \n",
    "<h3>"
   ]
  },
  {
   "cell_type": "markdown",
   "metadata": {},
   "source": [
    "<h3 dir=\"rtl\">\n",
    "   سپس تعداد کلمات کلیدی را در کل ایمیل های غیر اسپم و اسپم بدست می‌آوریم.\n",
    "    با استفاده از \n",
    "    smoothing\n",
    "    (آلفا را برابر با یک قرار دادیم)\n",
    "    ،ham_probabilities\n",
    "    و \n",
    "    spam_probabilities\n",
    "    را بدست آوردیم\n",
    "    (احتمال وجود هر یک از کلمات کلیدی در ایمیل های غیر اسپم و اسپم)\n",
    "    سپس به ازای هر یک از اعضای \n",
    "    test_data\n",
    "    با ضرب کردن احتمال وجود کلمات کلیدی موجود در این ایمیل در ایمیل های غیر اسپم و (اسپم) و ضرب این اعداد در \n",
    "       نسبت تعداد ایمیل های غیر اسپم (اسپم) به کل ایمیل ها،\n",
    "    احتمال غیر اسپم یا اسپم بودن ایمیل را محاسبه کرده \n",
    "    و بر اساس اینکه کدام مقدار بیشتر است،\n",
    "    پیشبینی غیر اسپم یا اسپم بودن ایمیل را انجام می‌دهیم.\n",
    "<h3>"
   ]
  },
  {
   "cell_type": "markdown",
   "metadata": {},
   "source": []
  }
 ],
 "metadata": {
  "colab": {
   "collapsed_sections": [],
   "name": "Naive Bayes.ipynb",
   "provenance": []
  },
  "kernelspec": {
   "display_name": "Python 3",
   "language": "python",
   "name": "python3"
  },
  "language_info": {
   "codemirror_mode": {
    "name": "ipython",
    "version": 3
   },
   "file_extension": ".py",
   "mimetype": "text/x-python",
   "name": "python",
   "nbconvert_exporter": "python",
   "pygments_lexer": "ipython3",
   "version": "3.9.0"
  }
 },
 "nbformat": 4,
 "nbformat_minor": 1
}
